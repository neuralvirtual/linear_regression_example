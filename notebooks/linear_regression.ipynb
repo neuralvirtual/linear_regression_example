{
 "cells": [
  {
   "cell_type": "code",
   "execution_count": 1,
   "id": "fbe957c2",
   "metadata": {},
   "outputs": [],
   "source": [
    "import pandas as pd\n",
    "from sklearn.linear_model import LinearRegression\n",
    "import matplotlib.pyplot as plt"
   ]
  },
  {
   "cell_type": "code",
   "execution_count": 2,
   "id": "6064decf",
   "metadata": {},
   "outputs": [
    {
     "data": {
      "text/html": [
       "<div>\n",
       "<style scoped>\n",
       "    .dataframe tbody tr th:only-of-type {\n",
       "        vertical-align: middle;\n",
       "    }\n",
       "\n",
       "    .dataframe tbody tr th {\n",
       "        vertical-align: top;\n",
       "    }\n",
       "\n",
       "    .dataframe thead th {\n",
       "        text-align: right;\n",
       "    }\n",
       "</style>\n",
       "<table border=\"1\" class=\"dataframe\">\n",
       "  <thead>\n",
       "    <tr style=\"text-align: right;\">\n",
       "      <th></th>\n",
       "      <th>id</th>\n",
       "      <th>size</th>\n",
       "      <th>price</th>\n",
       "    </tr>\n",
       "  </thead>\n",
       "  <tbody>\n",
       "    <tr>\n",
       "      <th>0</th>\n",
       "      <td>1</td>\n",
       "      <td>70</td>\n",
       "      <td>300000.99</td>\n",
       "    </tr>\n",
       "    <tr>\n",
       "      <th>1</th>\n",
       "      <td>2</td>\n",
       "      <td>50</td>\n",
       "      <td>240000.10</td>\n",
       "    </tr>\n",
       "    <tr>\n",
       "      <th>2</th>\n",
       "      <td>3</td>\n",
       "      <td>55</td>\n",
       "      <td>260000.30</td>\n",
       "    </tr>\n",
       "    <tr>\n",
       "      <th>3</th>\n",
       "      <td>4</td>\n",
       "      <td>80</td>\n",
       "      <td>420000.20</td>\n",
       "    </tr>\n",
       "    <tr>\n",
       "      <th>4</th>\n",
       "      <td>5</td>\n",
       "      <td>40</td>\n",
       "      <td>189300.99</td>\n",
       "    </tr>\n",
       "  </tbody>\n",
       "</table>\n",
       "</div>"
      ],
      "text/plain": [
       "   id  size      price\n",
       "0   1    70  300000.99\n",
       "1   2    50  240000.10\n",
       "2   3    55  260000.30\n",
       "3   4    80  420000.20\n",
       "4   5    40  189300.99"
      ]
     },
     "execution_count": 2,
     "metadata": {},
     "output_type": "execute_result"
    }
   ],
   "source": [
    "df = pd.read_csv('../dataset/house_prices.csv')\n",
    "\n",
    "df.head()"
   ]
  },
  {
   "cell_type": "code",
   "execution_count": null,
   "id": "5ee0ee40",
   "metadata": {},
   "outputs": [],
   "source": [
    "X = df['size'].values.reshape(-1, 1)  # Variável independente (tamanho)\n",
    "y = df['price'].values               # Variável dependente (preço)"
   ]
  },
  {
   "cell_type": "code",
   "execution_count": null,
   "id": "0fb729cf",
   "metadata": {},
   "outputs": [],
   "source": [
    "model = LinearRegression()\n",
    "model.fit(X, y)"
   ]
  },
  {
   "cell_type": "code",
   "execution_count": null,
   "id": "70b189a5",
   "metadata": {},
   "outputs": [],
   "source": [
    "predictions = model.predict([[80]])\n",
    "print(f\"Previsão de preço para casa de 80m²: {predictions[0]:.2f}\")"
   ]
  },
  {
   "cell_type": "code",
   "execution_count": null,
   "id": "78bc254a",
   "metadata": {},
   "outputs": [],
   "source": [
    "plt.scatter(X, y, color='blue', label='Dados reais')\n",
    "plt.plot(X, model.predict(X), color='red', label='Linha de regressão')\n",
    "plt.scatter(80, predictions[0], color='green', s=100, label='Previsão (80m²)')\n",
    "plt.xlabel('Tamanho da casa (m²)')\n",
    "plt.ylabel('Preço')\n",
    "plt.legend()\n",
    "plt.title('Regressão Linear - Preço vs Tamanho')\n",
    "plt.show()"
   ]
  },
  {
   "cell_type": "code",
   "execution_count": null,
   "id": "c2e3b6d6",
   "metadata": {},
   "outputs": [],
   "source": [
    "print(f\"Coeficiente angular (slope): {model.coef_[0]:.2f}\")\n",
    "print(f\"Intercepto: {model.intercept_:.2f}\")"
   ]
  }
 ],
 "metadata": {
  "kernelspec": {
   "display_name": "Python 3",
   "language": "python",
   "name": "python3"
  },
  "language_info": {
   "codemirror_mode": {
    "name": "ipython",
    "version": 3
   },
   "file_extension": ".py",
   "mimetype": "text/x-python",
   "name": "python",
   "nbconvert_exporter": "python",
   "pygments_lexer": "ipython3",
   "version": "3.10.12"
  }
 },
 "nbformat": 4,
 "nbformat_minor": 5
}
