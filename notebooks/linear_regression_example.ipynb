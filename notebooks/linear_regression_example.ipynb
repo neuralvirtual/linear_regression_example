{
 "cells": [
  {
   "cell_type": "markdown",
   "id": "be2cd857",
   "metadata": {},
   "source": [
    "# Linear Regression Example\n",
    "This notebook demonstrates a **Linear Regression** example using a synthetic dataset. We will:\n",
    "1. Create a dataset.\n",
    "2. Visualize the data.\n",
    "3. Train a Linear Regression model.\n",
    "4. Evaluate and make predictions."
   ]
  },
  {
   "cell_type": "code",
   "execution_count": null,
   "id": "f56d15f2",
   "metadata": {},
   "outputs": [],
   "source": [
    "import numpy as np\n",
    "import pandas as pd\n",
    "import matplotlib.pyplot as plt\n",
    "from sklearn.linear_model import LinearRegression\n",
    "from sklearn.model_selection import train_test_split\n",
    "from sklearn.metrics import mean_squared_error, r2_score"
   ]
  },
  {
   "cell_type": "markdown",
   "id": "1256d1c3",
   "metadata": {},
   "source": [
    "## 1. Create Synthetic Dataset\n",
    "We will generate a simple dataset that follows a linear pattern with some random noise."
   ]
  },
  {
   "cell_type": "code",
   "execution_count": null,
   "id": "7fb42177",
   "metadata": {},
   "outputs": [],
   "source": [
    "np.random.seed(42)\n",
    "X = 2.5 * np.random.randn(100, 1) + 25  # 100 random values around 25\n",
    "y = 5 * X + np.random.randn(100, 1) * 5 + 10  # Linear relation with noise\n",
    "\n",
    "# Create DataFrame for better visualization\n",
    "df = pd.DataFrame({'Size': X.flatten(), 'Price': y.flatten()})\n",
    "df.head()"
   ]
  },
  {
   "cell_type": "markdown",
   "id": "b56a4e86",
   "metadata": {},
   "source": [
    "## 2. Visualize the Data\n",
    "Let's plot our generated dataset."
   ]
  },
  {
   "cell_type": "code",
   "execution_count": null,
   "id": "0f6596d3",
   "metadata": {},
   "outputs": [],
   "source": [
    "plt.figure(figsize=(8,6))\n",
    "plt.scatter(df['Size'], df['Price'], color='blue', alpha=0.6)\n",
    "plt.title('Generated Dataset')\n",
    "plt.xlabel('Size')\n",
    "plt.ylabel('Price')\n",
    "plt.grid(True)\n",
    "plt.show()"
   ]
  },
  {
   "cell_type": "markdown",
   "id": "934110a1",
   "metadata": {},
   "source": [
    "## 3. Split Data into Training and Testing Sets"
   ]
  },
  {
   "cell_type": "code",
   "execution_count": null,
   "id": "9ac56118",
   "metadata": {},
   "outputs": [],
   "source": [
    "X_train, X_test, y_train, y_test = train_test_split(X, y, test_size=0.2, random_state=42)\n",
    "X_train.shape, X_test.shape"
   ]
  },
  {
   "cell_type": "markdown",
   "id": "ae56ac28",
   "metadata": {},
   "source": [
    "## 4. Train the Linear Regression Model"
   ]
  },
  {
   "cell_type": "code",
   "execution_count": null,
   "id": "e3c73178",
   "metadata": {},
   "outputs": [],
   "source": [
    "model = LinearRegression()\n",
    "model.fit(X_train, y_train)\n",
    "\n",
    "print(f'Intercept: {model.intercept_[0]:.2f}')\n",
    "print(f'Coefficient: {model.coef_[0][0]:.2f}')"
   ]
  },
  {
   "cell_type": "markdown",
   "id": "5d585e14",
   "metadata": {},
   "source": [
    "## 5. Make Predictions on Test Data"
   ]
  },
  {
   "cell_type": "code",
   "execution_count": null,
   "id": "709b4357",
   "metadata": {},
   "outputs": [],
   "source": [
    "y_pred = model.predict(X_test)\n",
    "comparison = pd.DataFrame({'Actual': y_test.flatten(), 'Predicted': y_pred.flatten()})\n",
    "comparison.head()"
   ]
  },
  {
   "cell_type": "markdown",
   "id": "8fd50d9a",
   "metadata": {},
   "source": [
    "## 6. Model Evaluation\n",
    "We will evaluate the model using **Mean Squared Error (MSE)** and **R² Score**."
   ]
  },
  {
   "cell_type": "code",
   "execution_count": null,
   "id": "33560965",
   "metadata": {},
   "outputs": [],
   "source": [
    "mse = mean_squared_error(y_test, y_pred)\n",
    "r2 = r2_score(y_test, y_pred)\n",
    "print(f'Mean Squared Error: {mse:.2f}')\n",
    "print(f'R² Score: {r2:.2f}')"
   ]
  },
  {
   "cell_type": "markdown",
   "id": "54b77995",
   "metadata": {},
   "source": [
    "## 7. Visualize the Regression Line"
   ]
  },
  {
   "cell_type": "code",
   "execution_count": null,
   "id": "25eb0aaa",
   "metadata": {},
   "outputs": [],
   "source": [
    "plt.figure(figsize=(8,6))\n",
    "plt.scatter(X_test, y_test, color='blue', alpha=0.6, label='Actual')\n",
    "plt.plot(X_test, y_pred, color='red', linewidth=2, label='Predicted')\n",
    "plt.title('Linear Regression Fit')\n",
    "plt.xlabel('Size')\n",
    "plt.ylabel('Price')\n",
    "plt.legend()\n",
    "plt.grid(True)\n",
    "plt.show()"
   ]
  }
 ],
 "metadata": {},
 "nbformat": 4,
 "nbformat_minor": 5
}
